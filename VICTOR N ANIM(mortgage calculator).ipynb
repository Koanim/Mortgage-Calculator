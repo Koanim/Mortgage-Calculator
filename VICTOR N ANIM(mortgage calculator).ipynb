{
 "cells": [
  {
   "cell_type": "markdown",
   "id": "da53b77e-a383-4f30-8516-7f099e7383e9",
   "metadata": {},
   "source": [
    "# VICTOR NYARKO ANIM\n",
    "## MORTGAGE CALCULATOR\n",
    "\n"
   ]
  },
  {
   "cell_type": "code",
   "execution_count": 1,
   "id": "aa0a72f3-85e8-4e12-bb63-a18784a31a68",
   "metadata": {
    "tags": []
   },
   "outputs": [
    {
     "name": "stdin",
     "output_type": "stream",
     "text": [
      "input\n",
      "\n",
      "\n",
      "-mortgage loan principal \n",
      "\n",
      " principal = $ 100000\n",
      "\n",
      "-percent annual interest \n",
      "\n",
      " interest =  7.5\n",
      "\n",
      "-years to pay off mortgage \n",
      "\n",
      " years =  30\n"
     ]
    },
    {
     "name": "stdout",
     "output_type": "stream",
     "text": [
      "\n",
      "\n",
      "output\n",
      "\n",
      "\n",
      "result...\n",
      "\n",
      "For a 30-year mortgage loan of $100000.0 at an annual interest rate of 7.5% you pay\n",
      "\n",
      "\n",
      "\n",
      "\n",
      "    $699.21 monthly\n",
      "    \n",
      "    \n",
      "    ----------------------------------------------------------------------\n",
      "    \n",
      "    \n",
      "    Total amount paid will be $251717.22\n",
      "    \n",
      "    \n",
      "    ----------------------------------------------------------------------\n"
     ]
    }
   ],
   "source": [
    "loan_amount=float(input('input\\n\\n\\n-mortgage loan principal \\n\\n principal = $'))\n",
    "int_rate=float(input('\\n-percent annual interest \\n\\n interest = '))\n",
    "years_of_pay=int(input('\\n-years to pay off mortgage \\n\\n years = '))\n",
    "\n",
    "i=(int_rate/12)/100\n",
    "\n",
    "N=years_of_pay*12\n",
    "\n",
    "M=loan_amount*(i*(1+i)**N)/(((1+i)**N)-1)\n",
    "\n",
    "total_loan_pay=M*(years_of_pay*12)\n",
    "\n",
    "print(f'\\n\\noutput\\n\\n\\nresult...\\n\\nFor a {years_of_pay}-year mortgage loan of ${loan_amount} at an annual interest rate of {int_rate}% you pay\\n\\n')\n",
    "print(f'''\n",
    "\n",
    "    ${M:.2f} monthly\n",
    "    \n",
    "    \n",
    "    {'-'*70}\n",
    "    \n",
    "    \n",
    "    Total amount paid will be ${total_loan_pay:.2f}\n",
    "    \n",
    "    \n",
    "    {'-'*70}''')\n",
    "\n"
   ]
  },
  {
   "cell_type": "code",
   "execution_count": null,
   "id": "3bbdb4ef-a90a-472a-8be0-b1f21e34d76b",
   "metadata": {},
   "outputs": [],
   "source": []
  },
  {
   "cell_type": "code",
   "execution_count": null,
   "id": "f21ab4f3-3671-4e49-9e87-119256311d8e",
   "metadata": {},
   "outputs": [],
   "source": []
  },
  {
   "cell_type": "code",
   "execution_count": null,
   "id": "702b055f-9e1d-41dd-b23d-71a4ffed48c4",
   "metadata": {},
   "outputs": [],
   "source": []
  }
 ],
 "metadata": {
  "kernelspec": {
   "display_name": "Python 3 (ipykernel)",
   "language": "python",
   "name": "python3"
  },
  "language_info": {
   "codemirror_mode": {
    "name": "ipython",
    "version": 3
   },
   "file_extension": ".py",
   "mimetype": "text/x-python",
   "name": "python",
   "nbconvert_exporter": "python",
   "pygments_lexer": "ipython3",
   "version": "3.11.5"
  },
  "widgets": {
   "application/vnd.jupyter.widget-state+json": {
    "state": {},
    "version_major": 2,
    "version_minor": 0
   }
  }
 },
 "nbformat": 4,
 "nbformat_minor": 5
}
